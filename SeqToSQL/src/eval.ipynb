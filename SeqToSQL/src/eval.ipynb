{
 "cells": [
  {
   "cell_type": "code",
   "execution_count": 1,
   "metadata": {},
   "outputs": [],
   "source": [
    "from collections import defaultdict\n",
    "import seaborn as sns\n",
    "import matplotlib.pyplot as plt\n",
    "import numpy as np\n",
    "from torch.utils.tensorboard import SummaryWriter\n",
    "from tqdm.notebook import tqdm, trange\n",
    "from torch import nn"
   ]
  },
  {
   "cell_type": "code",
   "execution_count": 2,
   "metadata": {
    "pycharm": {
     "name": "#%%\n"
    }
   },
   "outputs": [
    {
     "name": "stdout",
     "output_type": "stream",
     "text": [
      "Current device: GeForce GTX 960M\n"
     ]
    }
   ],
   "source": [
    "import torch\n",
    "from transformers import BertModel\n",
    "\n",
    "if torch.cuda.is_available():\n",
    "    device = torch.cuda.current_device()\n",
    "    print('Current device:', torch.cuda.get_device_name(device))\n",
    "    torch.cuda.empty_cache()\n",
    "else:\n",
    "    print('Failed to find GPU. Will use CPU.')\n",
    "    device = 'cpu'"
   ]
  },
  {
   "cell_type": "code",
   "execution_count": 3,
   "metadata": {
    "pycharm": {
     "name": "#%%\n"
    }
   },
   "outputs": [
    {
     "name": "stderr",
     "output_type": "stream",
     "text": [
      "100%|██████████| 15878/15878 [00:00<00:00, 93153.17it/s]\n",
      "100%|██████████| 5230/5230 [00:00<00:00, 21596.90it/s]\n",
      "100%|██████████| 100/100 [00:00<00:00, 282.62it/s]\n"
     ]
    },
    {
     "name": "stdout",
     "output_type": "stream",
     "text": [
      "We have 15878 test data with 5230 tables.\n"
     ]
    }
   ],
   "source": [
    "from utils.Constants import tokenizer, PRE_TRAINED_MODEL_NAME\n",
    "from dataLoader.DataLoader import get_data_loader\n",
    "\n",
    "max_test_size = 100\n",
    "test_data_loader = get_data_loader(data_type = 'test', tokenizer = tokenizer, batch_size = 1, max_size=max_test_size)"
   ]
  },
  {
   "cell_type": "code",
   "execution_count": 4,
   "metadata": {
    "pycharm": {
     "name": "#%%\n"
    }
   },
   "outputs": [],
   "source": [
    "from models.QABert import QABertTrainer\n",
    "from models.SelectRanker import SelectRankerTrainer\n",
    "from models.WhereRanker import WhereRankerTrainer\n",
    "from models.WhereConditionClassifier import WhereConditionClassifierTrainer\n",
    "from models.WhereNumberClassifier import WhereNumberClassifierTrainer\n",
    "from models.AggregationClassifier import AggregationClassifierTrainer\n",
    "\n",
    "from train.Trainer import load_model\n",
    "\n",
    "bert = BertModel.from_pretrained(PRE_TRAINED_MODEL_NAME)\n",
    "for param in bert.parameters():\n",
    "    param.requires_grad = False\n",
    "\n",
    "path=None\n",
    "\n",
    "if path:\n",
    "    models = load_model(path, test_data_loader, device)\n",
    "else:\n",
    "    models = dict(\n",
    "        selection_trainer = SelectRankerTrainer(device, test_data_loader, bert),\n",
    "        agg_class_trainer = AggregationClassifierTrainer(device, test_data_loader, bert, use_pretrained=False),\n",
    "        where_ranker_trainer = WhereRankerTrainer(device, test_data_loader, bert),\n",
    "        where_cond_class_trainer = WhereConditionClassifierTrainer(device, test_data_loader, bert, use_pretrained=False),\n",
    "        where_numb_class_trainer = WhereNumberClassifierTrainer(device, test_data_loader, bert),\n",
    "        qa_trainer = QABertTrainer(device, test_data_loader, bert, use_pretrained=False),\n",
    "    )"
   ]
  },
  {
   "cell_type": "code",
   "execution_count": 5,
   "metadata": {
    "pycharm": {
     "name": "#%%\n"
    }
   },
   "outputs": [
    {
     "data": {
      "text/plain": "Eval:   0%|          | 0/100 [00:00<?, ?it/s]",
      "application/vnd.jupyter.widget-view+json": {
       "version_major": 2,
       "version_minor": 0,
       "model_id": "45f8bfc23cb547eea72b7810e8a7dc77"
      }
     },
     "metadata": {},
     "output_type": "display_data"
    },
    {
     "name": "stderr",
     "output_type": "stream",
     "text": [
      "c:\\src\\python\\dke\\um_anlp_project\\seqtosql\\venv\\lib\\site-packages\\numpy\\core\\fromnumeric.py:3419: RuntimeWarning: Mean of empty slice.\n",
      "  return _methods._mean(a, axis=axis, dtype=dtype,\n",
      "c:\\src\\python\\dke\\um_anlp_project\\seqtosql\\venv\\lib\\site-packages\\numpy\\core\\_methods.py:188: RuntimeWarning: invalid value encountered in double_scalars\n",
      "  ret = ret.dtype.type(ret / rcount)\n"
     ]
    },
    {
     "name": "stdout",
     "output_type": "stream",
     "text": [
      "{'selection_trainer': {'loss': 1.76735356092453, 'acc': 0.38}, 'agg_class_trainer': {'loss': 2.1663984405994414, 'acc': 0.0}, 'where_ranker_trainer': {'loss': 0.8684695595502854, 'acc': 0.2}, 'where_cond_class_trainer': {'loss': nan, 'acc': nan}, 'where_numb_class_trainer': {'loss': 1.9015950155258179, 'acc': 0.11}, 'qa_trainer': {'loss': nan, 'acc': nan}}\n"
     ]
    }
   ],
   "source": [
    "from train.Trainer import get_eval\n",
    "\n",
    "eval = get_eval(models, test_data_loader, max_test_size, device)\n",
    "\n",
    "print(eval)\n"
   ]
  }
 ],
 "metadata": {
  "kernelspec": {
   "display_name": "Python 3",
   "language": "python",
   "name": "python3"
  },
  "language_info": {
   "codemirror_mode": {
    "name": "ipython",
    "version": 3
   },
   "file_extension": ".py",
   "mimetype": "text/x-python",
   "name": "python",
   "nbconvert_exporter": "python",
   "pygments_lexer": "ipython3",
   "version": "3.8.8"
  }
 },
 "nbformat": 4,
 "nbformat_minor": 1
}