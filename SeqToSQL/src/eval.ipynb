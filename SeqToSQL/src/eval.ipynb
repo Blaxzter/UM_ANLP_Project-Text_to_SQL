{
 "cells": [
  {
   "cell_type": "code",
   "execution_count": 1,
   "metadata": {},
   "outputs": [],
   "source": [
    "from collections import defaultdict\n",
    "import seaborn as sns\n",
    "import matplotlib.pyplot as plt\n",
    "import numpy as np\n",
    "from torch.utils.tensorboard import SummaryWriter\n",
    "from tqdm.notebook import tqdm, trange\n",
    "from torch import nn"
   ]
  },
  {
   "cell_type": "code",
   "execution_count": 2,
   "metadata": {
    "pycharm": {
     "name": "#%%\n"
    }
   },
   "outputs": [
    {
     "name": "stdout",
     "output_type": "stream",
     "text": [
      "Current device: Xavier\n"
     ]
    }
   ],
   "source": [
    "import torch\n",
    "from transformers import BertModel\n",
    "\n",
    "if torch.cuda.is_available():\n",
    "    device = torch.cuda.current_device()\n",
    "    print('Current device:', torch.cuda.get_device_name(device))\n",
    "    torch.cuda.empty_cache()\n",
    "else:\n",
    "    print('Failed to find GPU. Will use CPU.')\n",
    "    device = 'cpu'"
   ]
  },
  {
   "cell_type": "code",
   "execution_count": 3,
   "metadata": {
    "pycharm": {
     "name": "#%%\n"
    }
   },
   "outputs": [
    {
     "name": "stderr",
     "output_type": "stream",
     "text": [
      "100%|██████████| 15878/15878 [00:01<00:00, 13859.85it/s]\n",
      "100%|██████████| 5230/5230 [00:01<00:00, 3492.81it/s]\n",
      "  1%|          | 6/500 [00:00<00:08, 59.47it/s]"
     ]
    },
    {
     "name": "stdout",
     "output_type": "stream",
     "text": [
      "We have 15878 test data with 5230 tables.\n"
     ]
    },
    {
     "name": "stderr",
     "output_type": "stream",
     "text": [
      "100%|██████████| 500/500 [00:08<00:00, 60.85it/s]\n"
     ]
    }
   ],
   "source": [
    "from utils.Constants import tokenizer, PRE_TRAINED_MODEL_NAME\n",
    "from dataLoader.DataLoader import get_data_loader\n",
    "\n",
    "max_test_size = 500\n",
    "test_data_loader = get_data_loader(data_type = 'test', tokenizer = tokenizer, batch_size = 1, max_size=max_test_size)"
   ]
  },
  {
   "cell_type": "code",
   "execution_count": 5,
   "metadata": {
    "pycharm": {
     "name": "#%%\n"
    }
   },
   "outputs": [
    {
     "name": "stdout",
     "output_type": "stream",
     "text": [
      "Loaded selection_trainer\n",
      "Loaded agg_class_trainer\n",
      "Loaded where_ranker_trainer\n",
      "Loaded where_cond_class_trainer\n",
      "Loaded where_numb_class_trainer\n",
      "Loaded qa_trainer\n"
     ]
    }
   ],
   "source": [
    "from models.QABert import QABertTrainer\n",
    "from models.SelectRanker import SelectRankerTrainer\n",
    "from models.WhereRanker import WhereRankerTrainer\n",
    "from models.WhereConditionClassifier import WhereConditionClassifierTrainer\n",
    "from models.WhereNumberClassifier import WhereNumberClassifierTrainer\n",
    "from models.AggregationClassifier import AggregationClassifierTrainer\n",
    "\n",
    "from train.Trainer import load_model\n",
    "\n",
    "path=\"checkpoint/no_pretrained/19_Mar_2021_12_03\"\n",
    "\n",
    "bert = BertModel.from_pretrained(PRE_TRAINED_MODEL_NAME)\n",
    "for param in bert.parameters():\n",
    "    param.requires_grad = False\n",
    "\n",
    "if path:\n",
    "    models = load_model(path, test_data_loader, device, bert)\n",
    "else:    \n",
    "    models = dict(\n",
    "        selection_trainer = SelectRankerTrainer(device, test_data_loader, bert),\n",
    "        agg_class_trainer = AggregationClassifierTrainer(device, test_data_loader, bert, use_pretrained=False),\n",
    "        where_ranker_trainer = WhereRankerTrainer(device, test_data_loader, bert),\n",
    "        where_cond_class_trainer = WhereConditionClassifierTrainer(device, test_data_loader, bert, use_pretrained=False),\n",
    "        where_numb_class_trainer = WhereNumberClassifierTrainer(device, test_data_loader, bert),\n",
    "        qa_trainer = QABertTrainer(device, test_data_loader, bert, use_pretrained=False),\n",
    "    )"
   ]
  },
  {
   "cell_type": "code",
   "execution_count": 6,
   "metadata": {
    "pycharm": {
     "name": "#%%\n"
    }
   },
   "outputs": [
    {
     "data": {
      "application/vnd.jupyter.widget-view+json": {
       "model_id": "",
       "version_major": 2,
       "version_minor": 0
      },
      "text/plain": [
       "Eval:   0%|          | 0/500 [00:00<?, ?it/s]"
      ]
     },
     "metadata": {},
     "output_type": "display_data"
    },
    {
     "name": "stderr",
     "output_type": "stream",
     "text": [
      "/home/fabraham/.pyenv/versions/3.8.8/lib/python3.8/site-packages/numpy/core/fromnumeric.py:3419: RuntimeWarning: Mean of empty slice.\n",
      "  return _methods._mean(a, axis=axis, dtype=dtype,\n",
      "/home/fabraham/.pyenv/versions/3.8.8/lib/python3.8/site-packages/numpy/core/_methods.py:188: RuntimeWarning: invalid value encountered in double_scalars\n",
      "  ret = ret.dtype.type(ret / rcount)\n"
     ]
    },
    {
     "name": "stdout",
     "output_type": "stream",
     "text": [
      "{'selection_trainer': {'loss': 1.5300050527751445, 'acc': 0.494}, 'agg_class_trainer': {'loss': 0.9595700250267982, 'acc': 0.634}, 'where_ranker_trainer': {'loss': 0.6931471982002259, 'acc': 0.238}, 'where_cond_class_trainer': {'loss': nan, 'acc': nan}, 'where_numb_class_trainer': {'loss': 1.251422197818756, 'acc': 0.914}, 'qa_trainer': {'loss': nan, 'acc': nan}}\n"
     ]
    }
   ],
   "source": [
    "from train.Trainer import get_eval\n",
    "\n",
    "eval = get_eval(models, test_data_loader, max_test_size, device)\n",
    "\n",
    "print(eval)\n"
   ]
  },
  {
   "cell_type": "code",
   "execution_count": null,
   "metadata": {},
   "outputs": [],
   "source": []
  }
 ],
 "metadata": {
  "kernelspec": {
   "display_name": "Python 3",
   "language": "python",
   "name": "python3"
  },
  "language_info": {
   "codemirror_mode": {
    "name": "ipython",
    "version": 3
   },
   "file_extension": ".py",
   "mimetype": "text/x-python",
   "name": "python",
   "nbconvert_exporter": "python",
   "pygments_lexer": "ipython3",
   "version": "3.8.8"
  }
 },
 "nbformat": 4,
 "nbformat_minor": 1
}
