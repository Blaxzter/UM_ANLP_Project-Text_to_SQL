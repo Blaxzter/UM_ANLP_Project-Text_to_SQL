{
 "cells": [
  {
   "cell_type": "code",
   "execution_count": null,
   "metadata": {},
   "outputs": [],
   "source": [
    "from collections import defaultdict\n",
    "import seaborn as sns\n",
    "import matplotlib.pyplot as plt\n",
    "import numpy as np\n",
    "from torch.utils.tensorboard import SummaryWriter\n",
    "from tqdm.notebook import tqdm, trange\n",
    "from torch import nn"
   ]
  },
  {
   "cell_type": "code",
   "execution_count": null,
   "metadata": {
    "pycharm": {
     "name": "#%%\n"
    }
   },
   "outputs": [],
   "source": [
    "import torch\n",
    "from transformers import BertModel\n",
    "\n",
    "if torch.cuda.is_available():\n",
    "    device = torch.cuda.current_device()\n",
    "    print('Current device:', torch.cuda.get_device_name(device))\n",
    "    torch.cuda.empty_cache()\n",
    "else:\n",
    "    print('Failed to find GPU. Will use CPU.')\n",
    "    device = 'cpu'"
   ]
  },
  {
   "cell_type": "code",
   "execution_count": null,
   "metadata": {
    "pycharm": {
     "name": "#%%\n"
    }
   },
   "outputs": [],
   "source": [
    "from utils.Constants import tokenizer, PRE_TRAINED_MODEL_NAME\n",
    "from dataLoader.DataLoader import get_data_loader\n",
    "\n",
    "max_test_size = 100\n",
    "test_data_loader = get_data_loader(data_type = 'test', tokenizer = tokenizer, batch_size = 1, max_size=max_test_size)"
   ]
  },
  {
   "cell_type": "code",
   "execution_count": null,
   "metadata": {
    "pycharm": {
     "name": "#%%\n"
    }
   },
   "outputs": [],
   "source": [
    "from models.QABert import QABertTrainer\n",
    "from models.SelectRanker import SelectRankerTrainer\n",
    "from models.WhereRanker import WhereRankerTrainer\n",
    "from models.WhereConditionClassifier import WhereConditionClassifierTrainer\n",
    "from models.WhereNumberClassifier import WhereNumberClassifierTrainer\n",
    "from models.AggregationClassifier import AggregationClassifierTrainer\n",
    "\n",
    "from train.Trainer import load_model\n",
    "\n",
    "bert = BertModel.from_pretrained(PRE_TRAINED_MODEL_NAME)\n",
    "for param in bert.parameters():\n",
    "    param.requires_grad = False\n",
    "\n",
    "path=None\n",
    "\n",
    "if path:\n",
    "    models = load_model(path, test_data_loader, device)\n",
    "else:\n",
    "    models = dict(\n",
    "        selection_trainer = SelectRankerTrainer(device, test_data_loader, bert),\n",
    "        agg_class_trainer = AggregationClassifierTrainer(device, test_data_loader, bert, use_pretrained=False),\n",
    "        where_ranker_trainer = WhereRankerTrainer(device, test_data_loader, bert),\n",
    "        where_cond_class_trainer = WhereConditionClassifierTrainer(device, test_data_loader, bert, use_pretrained=False),\n",
    "        where_numb_class_trainer = WhereNumberClassifierTrainer(device, test_data_loader, bert),\n",
    "        qa_trainer = QABertTrainer(device, test_data_loader, bert, use_pretrained=False),\n",
    "    )"
   ]
  },
  {
   "cell_type": "code",
   "execution_count": null,
   "metadata": {
    "pycharm": {
     "name": "#%%\n"
    }
   },
   "outputs": [],
   "source": [
    "from train.Trainer import get_eval\n",
    "\n",
    "eval = get_eval(models, test_data_loader, max_test_size, device)\n",
    "\n",
    "print(eval)\n"
   ]
  }
 ],
 "metadata": {
  "kernelspec": {
   "display_name": "Python 3",
   "language": "python",
   "name": "python3"
  },
  "language_info": {
   "codemirror_mode": {
    "name": "ipython",
    "version": 3
   },
   "file_extension": ".py",
   "mimetype": "text/x-python",
   "name": "python",
   "nbconvert_exporter": "python",
   "pygments_lexer": "ipython3",
   "version": "3.8.8"
  }
 },
 "nbformat": 4,
 "nbformat_minor": 1
}