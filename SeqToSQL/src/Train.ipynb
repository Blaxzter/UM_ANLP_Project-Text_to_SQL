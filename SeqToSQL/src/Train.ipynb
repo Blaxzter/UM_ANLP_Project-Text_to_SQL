{
 "cells": [
  {
   "cell_type": "code",
   "execution_count": null,
   "metadata": {},
   "outputs": [],
   "source": [
    "from collections import defaultdict\n",
    "import seaborn as sns\n",
    "import matplotlib.pyplot as plt\n",
    "import numpy as np\n",
    "from torch.utils.tensorboard import SummaryWriter\n",
    "from tqdm.notebook import tqdm, trange\n",
    "from torch import nn"
   ]
  },
  {
   "cell_type": "code",
   "execution_count": null,
   "metadata": {
    "pycharm": {
     "name": "#%%\n"
    }
   },
   "outputs": [],
   "source": [
    "import torch\n",
    "from transformers import BertModel\n",
    "\n",
    "if torch.cuda.is_available():\n",
    "    device = torch.cuda.current_device()\n",
    "    print('Current device:', torch.cuda.get_device_name(device))\n",
    "    torch.cuda.empty_cache()\n",
    "else:\n",
    "    print('Failed to find GPU. Will use CPU.')\n",
    "    device = 'cpu'"
   ]
  },
  {
   "cell_type": "code",
   "execution_count": null,
   "metadata": {
    "pycharm": {
     "name": "#%%\n"
    }
   },
   "outputs": [],
   "source": [
    "from utils.Constants import tokenizer, PRE_TRAINED_MODEL_NAME\n",
    "from dataLoader.DataLoader import get_data_loader\n",
    "\n",
    "dev_data_loader = get_data_loader(data_type = 'train', tokenizer = tokenizer, batch_size = 1)\n",
    "test_data_loader = get_data_loader(data_type = 'test', tokenizer = tokenizer, batch_size = 1)"
   ]
  },
  {
   "cell_type": "code",
   "execution_count": null,
   "metadata": {
    "pycharm": {
     "name": "#%%\n"
    }
   },
   "outputs": [],
   "source": [
    "from models.QABert import QABertTrainer\n",
    "from models.SelectRanker import SelectRankerTrainer\n",
    "from models.WhereRanker import WhereRankerTrainer\n",
    "from models.WhereConditionClassifier import WhereConditionClassifierTrainer\n",
    "from models.WhereNumberClassifier import WhereNumberClassifierTrainer\n",
    "from models.AggregationClassifier import AggregationClassifierTrainer\n",
    "\n",
    "bert = BertModel.from_pretrained(PRE_TRAINED_MODEL_NAME)\n",
    "for param in bert.parameters():\n",
    "    param.requires_grad = False\n",
    "\n",
    "models = dict(\n",
    "    selection_trainer = SelectRankerTrainer(device, dev_data_loader, bert),\n",
    "    agg_class_trainer = AggregationClassifierTrainer(device, dev_data_loader, bert, use_pretrained=False),\n",
    "    where_ranker_trainer = WhereRankerTrainer(device, dev_data_loader, bert),\n",
    "    where_cond_class_trainer = WhereConditionClassifierTrainer(device, dev_data_loader, bert, use_pretrained=False),\n",
    "    where_numb_class_trainer = WhereNumberClassifierTrainer(device, dev_data_loader, bert),\n",
    "    qa_trainer = QABertTrainer(device, dev_data_loader, bert, use_pretrained=False),\n",
    ")"
   ]
  },
  {
   "cell_type": "code",
   "execution_count": null,
   "metadata": {
    "pycharm": {
     "name": "#%%\n"
    }
   },
   "outputs": [],
   "source": [
    "from train.Trainer import train_epoch, save_model, load_model\n",
    "\n",
    "#models = load_model(\"./checkpoint/16_Mar_2021_19_21\", dev_data_loader, device)\n",
    "writer = SummaryWriter(log_dir = \"runs/\")\n",
    "\n",
    "train_epoch(\n",
    "    models = models,\n",
    "    train_data_loader = dev_data_loader,\n",
    "    eval_data_loader = test_data_loader,\n",
    "    device = device,\n",
    "    batch_size = 16, report_size = 8, eval_size = 64,\n",
    "    writer = writer\n",
    ")\n",
    "save_model(models,\"./checkpoint\")"
   ]
  },
  {
   "cell_type": "code",
   "execution_count": null,
   "metadata": {},
   "outputs": [],
   "source": [
    "import json\n",
    "\n",
    "losses = {\n",
    "    f'{key}_loss': [loss if type(loss) == int or type(loss) == float else loss.item() for loss in value.losses] for key, value in models.items()\n",
    "}\n",
    "# losses['qa_trainer_loss']\n",
    "with open('data/losses.json', 'w') as outfile:\n",
    "    json.dump(losses, outfile)"
   ]
  },
  {
   "cell_type": "code",
   "execution_count": null,
   "metadata": {},
   "outputs": [],
   "source": [
    "models['qa_trainer'].losses[0].item()"
   ]
  },
  {
   "cell_type": "code",
   "execution_count": null,
   "metadata": {},
   "outputs": [],
   "source": [
    "from matplotlib.pyplot import plot\n",
    "\n",
    "for key, loss in losses.items():\n",
    "    plot(loss, label=key)\n",
    "plt.legend()\n",
    "plt.show()"
   ]
  },
  {
   "cell_type": "code",
   "execution_count": null,
   "metadata": {},
   "outputs": [],
   "source": []
  }
 ],
 "metadata": {
  "kernelspec": {
   "display_name": "Python 3",
   "language": "python",
   "name": "python3"
  },
  "language_info": {
   "codemirror_mode": {
    "name": "ipython",
    "version": 3
   },
   "file_extension": ".py",
   "mimetype": "text/x-python",
   "name": "python",
   "nbconvert_exporter": "python",
   "pygments_lexer": "ipython3",
   "version": "3.8.8"
  }
 },
 "nbformat": 4,
 "nbformat_minor": 1
}
