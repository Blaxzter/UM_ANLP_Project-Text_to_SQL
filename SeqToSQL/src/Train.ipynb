{
 "cells": [
  {
   "cell_type": "code",
   "execution_count": null,
   "metadata": {
    "collapsed": true
   },
   "outputs": [],
   "source": [
    "from collections import defaultdict\n",
    "import seaborn as sns\n",
    "import matplotlib.pyplot as plt\n",
    "import numpy as np\n",
    "from tqdm.notebook import tqdm, trange\n",
    "from torch import nn"
   ]
  },
  {
   "cell_type": "code",
   "execution_count": null,
   "outputs": [],
   "source": [
    "import torch\n",
    "\n",
    "if torch.cuda.is_available():\n",
    "    device = torch.cuda.current_device()\n",
    "    print('Current device:', torch.cuda.get_device_name(device))\n",
    "else:\n",
    "    print('Failed to find GPU. Will use CPU.')\n",
    "    device = 'cpu'"
   ],
   "metadata": {
    "collapsed": false,
    "pycharm": {
     "name": "#%%\n"
    }
   }
  },
  {
   "cell_type": "code",
   "execution_count": null,
   "outputs": [],
   "source": [
    "from utils.Constants import tokenizer\n",
    "from dataLoader.DataLoader import get_data_loader\n",
    "from dataLoader.DataLoaderUtils import get_question_answers_for_where_value_def_length, get_question_answers_def_length\n",
    "\n",
    "dev_data_loader = get_data_loader(data_type = 'dev', tokenizer = tokenizer, batch_size = 1)"
   ],
   "metadata": {
    "collapsed": false,
    "pycharm": {
     "name": "#%%\n"
    }
   }
  },
  {
   "cell_type": "code",
   "execution_count": null,
   "outputs": [],
   "source": [
    "from models.QABert import QABertTrainer\n",
    "from models.SelectRanker import SelectRankerTrainer\n",
    "from models.WhereRanker import WhereRankerTrainer\n",
    "from models.WhereConditionClassifier import WhereConditionClassifierTrainer\n",
    "from models.WhereNumberClassifier import WhereNumberClassifierTrainer\n",
    "from models.AggregationClassifier import AggregationClassifierTrainer\n",
    "from train.Trainer import train_epoch, save_model, load_model\n",
    "\n",
    "models = dict(\n",
    "    selection_trainer = SelectRankerTrainer(device, dev_data_loader),\n",
    "    agg_class_trainer = AggregationClassifierTrainer(device, dev_data_loader),\n",
    "    where_ranker_trainer = WhereRankerTrainer(device, dev_data_loader),\n",
    "    where_cond_class_trainer = WhereConditionClassifierTrainer(device, dev_data_loader),\n",
    "    where_numb_class_trainer = WhereNumberClassifierTrainer(device, dev_data_loader),\n",
    "    qa_trainer = QABertTrainer(device, dev_data_loader),\n",
    ")"
   ],
   "metadata": {
    "collapsed": false,
    "pycharm": {
     "name": "#%%\n"
    }
   }
  },
  {
   "cell_type": "code",
   "execution_count": null,
   "outputs": [],
   "source": [
    "#models = load_model(\"./checkpoint/16_Mar_2021_19_21\", dev_data_loader, device)\n",
    "train_epoch(models, dev_data_loader, device)\n",
    "save_model(models,\"./checkpoint\")"
   ],
   "metadata": {
    "collapsed": false,
    "pycharm": {
     "name": "#%%\n"
    }
   }
  }
 ],
 "metadata": {
  "kernelspec": {
   "display_name": "Python 3",
   "language": "python",
   "name": "python3"
  },
  "language_info": {
   "codemirror_mode": {
    "name": "ipython",
    "version": 2
   },
   "file_extension": ".py",
   "mimetype": "text/x-python",
   "name": "python",
   "nbconvert_exporter": "python",
   "pygments_lexer": "ipython2",
   "version": "2.7.6"
  }
 },
 "nbformat": 4,
 "nbformat_minor": 0
}