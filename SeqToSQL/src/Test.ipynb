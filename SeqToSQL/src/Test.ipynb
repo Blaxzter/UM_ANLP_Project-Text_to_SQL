{
 "cells": [
  {
   "cell_type": "code",
   "execution_count": null,
   "metadata": {
    "collapsed": true
   },
   "outputs": [],
   "source": [
    "import importlib\n",
    "import torch\n",
    "\n",
    "import utils.Constants\n",
    "\n",
    "from dataLoader.DataLoader import get_data_loader\n",
    "from utils.Constants import tokenizer\n",
    "\n",
    "from models.QABert import QABertTrainer\n",
    "from train.Trainer import train_epoch"
   ]
  },
  {
   "cell_type": "code",
   "execution_count": null,
   "outputs": [],
   "source": [
    "if torch.cuda.is_available():\n",
    "    device = torch.cuda.current_device()\n",
    "    print('Current device:', torch.cuda.get_device_name(device))\n",
    "else:\n",
    "    print('Failed to find GPU. Will use CPU.')\n",
    "    device = 'cpu'\n"
   ],
   "metadata": {
    "collapsed": false,
    "pycharm": {
     "name": "#%%\n"
    }
   }
  },
  {
   "cell_type": "code",
   "execution_count": null,
   "outputs": [],
   "source": [
    "import dataLoader.DataLoader\n",
    "import dataLoader.DataLoaderUtils\n",
    "\n",
    "importlib.reload(dataLoader.DataLoader)\n",
    "importlib.reload(dataLoader.DataLoaderUtils)\n",
    "\n",
    "from dataLoader.DataLoader import get_data_loader\n",
    "from dataLoader.DataLoaderUtils import get_question_answers_for_where_value_def_length, get_question_answers_def_length\n",
    "\n",
    "dev_data_loader = get_data_loader(data_type = 'dev', tokenizer = tokenizer, batch_size = 1)"
   ],
   "metadata": {
    "collapsed": false,
    "pycharm": {
     "name": "#%%\n"
    }
   }
  },
  {
   "cell_type": "code",
   "execution_count": null,
   "outputs": [],
   "source": [
    "import models.AggregationClassifier\n",
    "\n",
    "importlib.reload(models.AggregationClassifier)\n",
    "importlib.reload(utils.Constants)\n",
    "\n",
    "from models.AggregationClassifier import AggregationClassifierTrainer\n",
    "\n",
    "agg_class_trainer = AggregationClassifierTrainer(device, dev_data_loader)\n",
    "\n",
    "d = next(iter(dev_data_loader))\n",
    "\n",
    "input_ids = d[\"input_ids\"].to(device)\n",
    "attention_mask = d[\"attention_mask\"].to(device)\n",
    "token_type_ids = d[\"token_type_ids\"].to(device)\n",
    "\n",
    "agg_target = d[\"target\"]['SELECT_AGG'].to(device)\n",
    "\n",
    "agg_output = agg_class_trainer.predict(\n",
    "    input_ids,\n",
    "    attention_mask,\n",
    "    token_type_ids,\n",
    "    agg_target.view(-1)\n",
    ")\n",
    "\n",
    "loss = agg_class_trainer.calc_loss(\n",
    "    agg_output, agg_target\n",
    ")\n",
    "\n",
    "print(loss)"
   ],
   "metadata": {
    "collapsed": false,
    "pycharm": {
     "name": "#%%\n"
    }
   }
  },
  {
   "cell_type": "code",
   "execution_count": null,
   "outputs": [],
   "source": [
    "import models.SelectRanker\n",
    "import models.WhereRanker\n",
    "import train.Trainer\n",
    "import models.AggregationClassifier\n",
    "import models.WhereConditionClassifier\n",
    "import models.WhereNumberClassifier\n",
    "\n",
    "importlib.reload(models.QABert)\n",
    "importlib.reload(models.SelectRanker)\n",
    "importlib.reload(models.WhereRanker)\n",
    "importlib.reload(models.WhereConditionClassifier)\n",
    "importlib.reload(models.WhereNumberClassifier)\n",
    "importlib.reload(models.AggregationClassifier)\n",
    "importlib.reload(train.Trainer)\n",
    "\n",
    "from models.QABert import QABertTrainer\n",
    "from models.SelectRanker import SelectRankerTrainer\n",
    "from models.WhereRanker import WhereRankerTrainer\n",
    "from models.WhereConditionClassifier import WhereConditionClassifierTrainer\n",
    "from models.WhereNumberClassifier import WhereNumberClassifierTrainer\n",
    "from models.AggregationClassifier import AggregationClassifierTrainer\n",
    "from train.Trainer import train_epoch\n",
    "\n",
    "models = dict(\n",
    "    selection_trainer = SelectRankerTrainer(device, dev_data_loader),\n",
    "    agg_class_trainer = AggregationClassifierTrainer(device, dev_data_loader),\n",
    "    where_ranker_trainer = WhereRankerTrainer(device, dev_data_loader),\n",
    "    where_cond_class_trainer = WhereConditionClassifierTrainer(device, dev_data_loader),\n",
    "    where_numb_class_trainer = WhereNumberClassifierTrainer(device, dev_data_loader),\n",
    "    qa_trainer = QABertTrainer(device, dev_data_loader),\n",
    ")\n",
    "\n",
    "train_epoch(models, dev_data_loader, device)"
   ],
   "metadata": {
    "collapsed": false,
    "pycharm": {
     "name": "#%%\n"
    }
   }
  }
 ],
 "metadata": {
  "kernelspec": {
   "display_name": "Python 3",
   "language": "python",
   "name": "python3"
  },
  "language_info": {
   "codemirror_mode": {
    "name": "ipython",
    "version": 2
   },
   "file_extension": ".py",
   "mimetype": "text/x-python",
   "name": "python",
   "nbconvert_exporter": "python",
   "pygments_lexer": "ipython2",
   "version": "2.7.6"
  }
 },
 "nbformat": 4,
 "nbformat_minor": 0
}