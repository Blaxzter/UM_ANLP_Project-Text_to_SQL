{
 "cells": [
  {
   "cell_type": "code",
   "execution_count": null,
   "metadata": {
    "collapsed": true
   },
   "outputs": [],
   "source": [
    "import importlib\n",
    "import torch\n",
    "from transformers import BertModel\n",
    "\n",
    "from dataLoader.DataLoader import get_data_loader\n",
    "from utils.Constants import tokenizer\n",
    "\n",
    "from models.QABert import QABertTrainer\n",
    "from train.Trainer import train_epoch"
   ]
  },
  {
   "cell_type": "code",
   "execution_count": null,
   "outputs": [],
   "source": [
    "if torch.cuda.is_available():\n",
    "    device = torch.cuda.current_device()\n",
    "    print('Current device:', torch.cuda.get_device_name(device))\n",
    "    torch.cuda.empty_cache()\n",
    "else:\n",
    "    print('Failed to find GPU. Will use CPU.')\n",
    "    device = 'cpu'\n"
   ],
   "metadata": {
    "collapsed": false,
    "pycharm": {
     "name": "#%%\n"
    }
   }
  },
  {
   "cell_type": "code",
   "execution_count": null,
   "outputs": [],
   "source": [
    "import dataLoader.DataLoader\n",
    "import dataLoader.DataLoaderUtils\n",
    "\n",
    "\n",
    "importlib.reload(dataLoader.DataLoader)\n",
    "importlib.reload(dataLoader.DataLoaderUtils)\n",
    "\n",
    "from dataLoader.DataLoader import get_data_loader\n",
    "from dataLoader.DataLoaderUtils import get_question_answers_for_where_value_def_length, get_question_answers_def_length\n",
    "\n",
    "dev_data_loader = get_data_loader(data_type = 'dev', tokenizer = tokenizer, batch_size = 1)\n"
   ],
   "metadata": {
    "collapsed": false,
    "pycharm": {
     "name": "#%%\n"
    }
   }
  },
  {
   "cell_type": "code",
   "execution_count": null,
   "outputs": [],
   "source": [
    "import models.SelectRanker\n",
    "import models.WhereRanker\n",
    "import train.Trainer\n",
    "import models.AggregationClassifier\n",
    "import models.WhereConditionClassifier\n",
    "import models.WhereNumberClassifier\n",
    "import utils.Constants\n",
    "from utils.Constants import tokenizer, PRE_TRAINED_MODEL_NAME\n",
    "\n",
    "importlib.reload(models.QABert)\n",
    "importlib.reload(models.SelectRanker)\n",
    "importlib.reload(models.WhereRanker)\n",
    "importlib.reload(models.WhereConditionClassifier)\n",
    "importlib.reload(models.WhereNumberClassifier)\n",
    "importlib.reload(models.AggregationClassifier)\n",
    "importlib.reload(train.Trainer)\n",
    "importlib.reload(utils.Constants)\n",
    "\n",
    "from models.QABert import QABertTrainer\n",
    "from models.SelectRanker import SelectRankerTrainer\n",
    "from models.WhereRanker import WhereRankerTrainer\n",
    "from models.WhereConditionClassifier import WhereConditionClassifierTrainer\n",
    "from models.WhereNumberClassifier import WhereNumberClassifierTrainer\n",
    "from models.AggregationClassifier import AggregationClassifierTrainer\n",
    "from train.Trainer import train_epoch, save_model, load_model\n",
    "\n",
    "bert = BertModel.from_pretrained(PRE_TRAINED_MODEL_NAME)\n",
    "for param in bert.parameters():\n",
    "    param.requires_grad = False\n",
    "\n",
    "models = dict(\n",
    "    selection_trainer = SelectRankerTrainer(device, dev_data_loader, bert),\n",
    "    agg_class_trainer = AggregationClassifierTrainer(device, dev_data_loader, bert, use_pretrained=False),\n",
    "    where_ranker_trainer = WhereRankerTrainer(device, dev_data_loader, bert),\n",
    "    where_cond_class_trainer = WhereConditionClassifierTrainer(device, dev_data_loader, bert, use_pretrained=False),\n",
    "    where_numb_class_trainer = WhereNumberClassifierTrainer(device, dev_data_loader, bert),\n",
    "    qa_trainer = QABertTrainer(device, dev_data_loader, bert, use_pretrained=False),\n",
    ")\n",
    "\n",
    "#save_model(models,\"./checkpoint\")\n",
    "#models = load_model(\"./checkpoint/16_Mar_2021_19_21\", dev_data_loader, device)\n",
    "train_epoch(models, dev_data_loader, device)"
   ],
   "metadata": {
    "collapsed": false,
    "pycharm": {
     "name": "#%%\n"
    }
   }
  },
  {
   "cell_type": "code",
   "execution_count": null,
   "outputs": [],
   "source": [
    "train_epoch(models, dev_data_loader, device)\n",
    "train_epoch(models, dev_data_loader, device)\n",
    "train_epoch(models, dev_data_loader, device)\n",
    "train_epoch(models, dev_data_loader, device)\n",
    "train_epoch(models, dev_data_loader, device)\n",
    "train_epoch(models, dev_data_loader, device)\n",
    "train_epoch(models, dev_data_loader, device)"
   ],
   "metadata": {
    "collapsed": false,
    "pycharm": {
     "name": "#%%\n"
    }
   }
  },
  {
   "cell_type": "code",
   "execution_count": null,
   "outputs": [],
   "source": [
    "import utils.Constants\n",
    "import models.WhereRanker\n",
    "\n",
    "importlib.reload(models.WhereRanker)\n",
    "importlib.reload(utils.Constants)\n",
    "\n",
    "from models.WhereRanker import WhereRankerTrainer\n",
    "\n",
    "where_ranker = WhereRankerTrainer(device, dev_data_loader)\n",
    "\n",
    "iterator = iter(dev_data_loader)\n",
    "for i in range(5):\n",
    "    d = next(iterator)\n",
    "\n",
    "input_ids = d[\"input_ids\"].to(device)\n",
    "attention_mask = d[\"attention_mask\"].to(device)\n",
    "token_type_ids = d[\"token_type_ids\"].to(device)\n",
    "\n",
    "agg_target = d[\"target\"]['WHERE'].to(device)\n",
    "\n",
    "agg_output = where_ranker.predict(\n",
    "    input_ids,\n",
    "    attention_mask,\n",
    "    token_type_ids\n",
    ")\n",
    "\n",
    "where_ranker.calc_loss(\n",
    "    agg_output, agg_target\n",
    ")"
   ],
   "metadata": {
    "collapsed": false,
    "pycharm": {
     "name": "#%%\n"
    }
   }
  },
  {
   "cell_type": "code",
   "execution_count": null,
   "outputs": [],
   "source": [
    "import models.WhereConditionClassifier\n",
    "\n",
    "importlib.reload(models.WhereConditionClassifier)\n",
    "\n",
    "from models.WhereConditionClassifier import WhereConditionClassifierTrainer\n",
    "\n",
    "where_ranker = WhereConditionClassifierTrainer(device, dev_data_loader)\n",
    "\n",
    "iterator = iter(dev_data_loader)\n",
    "for i in range(5):\n",
    "    d = next(iterator)\n",
    "\n",
    "where_cond_targets = d[\"target\"]['WHERE_CONDITIONS'].to(device)\n",
    "where_columns = d[\"target\"]['WHERE'].to(device)\n",
    "num_where_columns = torch.count_nonzero(where_columns).item()\n",
    "target_idx = torch.topk(where_columns, k=num_where_columns, dim=1)[1].to(device)\n",
    "\n",
    "for where_column, where_cond_target in zip(target_idx.view(-1), where_cond_targets.view(-1)):\n",
    "    where_outputs = where_ranker.predict(\n",
    "        input_ids = input_ids,\n",
    "        attention_mask = attention_mask,\n",
    "        token_type_ids = token_type_ids,\n",
    "        where_column = where_column\n",
    "    )\n",
    "\n",
    "    where_ranker.calc_loss(where_outputs, where_cond_target)\n"
   ],
   "metadata": {
    "collapsed": false,
    "pycharm": {
     "name": "#%%\n"
    }
   }
  },
  {
   "cell_type": "code",
   "execution_count": null,
   "outputs": [],
   "source": [
    "import models.QABert\n",
    "\n",
    "importlib.reload(models.QABert)\n",
    "\n",
    "from models.QABert import QABertTrainer\n",
    "\n",
    "qa_ranker = QABertTrainer(device, dev_data_loader)\n",
    "\n",
    "iterator = iter(dev_data_loader)\n",
    "for i in range(5):\n",
    "    d = next(iterator)\n",
    "\n",
    "where_input_ids = d[\"qa_input_ids\"].to(device)\n",
    "where_attention_mask = d[\"qa_attention_mask\"].to(device)\n",
    "where_token_type_ids = d[\"qa_token_type_ids\"].to(device)\n",
    "for cond_num, where_cond_target in enumerate(d[\"target\"]['WHERE_VALUE']):\n",
    "    start_softmax, end_softmax = qa_ranker.predict(\n",
    "        input_ids = where_input_ids.squeeze(0)[cond_num].view(-1),\n",
    "        attention_mask = where_attention_mask.squeeze(0)[cond_num].view(-1),\n",
    "        token_type_ids = where_token_type_ids.squeeze(0)[cond_num].view(-1),\n",
    "    )\n",
    "\n",
    "    qa_ranker.calc_loss(start_softmax, end_softmax, where_cond_target)"
   ],
   "metadata": {
    "collapsed": false,
    "pycharm": {
     "name": "#%%\n"
    }
   }
  }
 ],
 "metadata": {
  "kernelspec": {
   "display_name": "Python 3",
   "language": "python",
   "name": "python3"
  },
  "language_info": {
   "codemirror_mode": {
    "name": "ipython",
    "version": 2
   },
   "file_extension": ".py",
   "mimetype": "text/x-python",
   "name": "python",
   "nbconvert_exporter": "python",
   "pygments_lexer": "ipython2",
   "version": "2.7.6"
  }
 },
 "nbformat": 4,
 "nbformat_minor": 0
}